{
  "nbformat": 4,
  "nbformat_minor": 0,
  "metadata": {
    "colab": {
      "provenance": []
    },
    "kernelspec": {
      "name": "python3",
      "display_name": "Python 3"
    },
    "language_info": {
      "name": "python"
    }
  },
  "cells": [
    {
      "cell_type": "code",
      "execution_count": 35,
      "metadata": {
        "id": "TS-gX3UrM8ZS"
      },
      "outputs": [],
      "source": [
        "\n",
        "class Person:\n",
        "  def __init__(person, last, first,mi, id,phone):\n",
        "    person.last = last\n",
        "    person.first = first\n",
        "    person.mi = mi\n",
        "    person.id = id\n",
        "    person.phone = phone\n",
        "\n",
        "def read_file(filename):\n",
        "    with open('data.csv') as file:\n",
        "      content = file.readlines()\n",
        "      header = content[:1]\n",
        "      rows = content[1:]\n",
        "      length = len(rows)\n",
        "    for i in range (0,length):\n",
        "      #print(header)\n",
        "      #print(rows)\n",
        "      str = rows[i:i+1]\n",
        "      strcsv = ''.join(rows)\n",
        "      #print(strcsv)\n",
        "      #words  = strcsv.split()\n",
        "      #lastname = strcsv[1]\n",
        "      strcsv = strcsv.strip()\n",
        "      strcsv = ''.join(rows)\n",
        "      process_txt(strcsv) #pass first line of file to process \n",
        "      #print(strcsv.split(\",\"))\n",
        "def process_txt(rows):\n",
        "    #print(strcsv)\n",
        "    #words  = strcsv.split()\n",
        "    #lastname = strcsv[1]\n",
        "    print(strcsv.split(\",\"))\n",
        "    splitstr = strcsv.split(\",\")\n",
        "    print(splitstr)\n",
        "    splitstr[1]= splitstr[1].upper() #last name upper case\n",
        "    splitstr[0] = splitstr[0].upper() #first name upper case\n",
        "    if splitstr[2] == '': #check if middle initial is empty \n",
        "      splitstr[2] = X     \n",
        "    else: \n",
        "      splitstr[2] = splitstr[2].upper()\n",
        "    \n",
        "    letters = re.findall('[A-Z]', splitstr[3])\n",
        "    #print(letters)\n",
        "    if len(letters) != 2: \n",
        "      print(\"invalid id should be 2 letters followed by 4 numbers\")\n",
        "      splitstr[3] = input(\"enter a valid id\")\n",
        "    num = re.findall('[0-9]', splitstr[3])\n",
        "   # print(num)\n",
        "    if len(num) != 4: \n",
        "       print(\"invalid id should be 2 letters followed by 4 numbers\")\n",
        "       splitstr[3] = input(\"enter a valid id\")\n",
        "\n",
        "    #use regex to check that phone number is in the correct form \n",
        "    phonenum = re.findall('[-]', splitstr[4])\n",
        "    if len(phonenum) < 2:\n",
        "      print(splitstr[4] + \" is invalid \") \n",
        "      splitstr[4] = input(\"enter a valid number please \")\n",
        "  # now that the data is fixed convert to a dictionary \n",
        "    p1 = Person(splitstr[0], splitstr[1],splitstr[2], splitstr[3],splitstr[4])\n",
        "    dictionary  = {splitstr[3]: p1}\n",
        "    print(dictionary)\n",
        "\n",
        "      #return(splitstr) \n",
        "  \n",
        "  \n",
        "  \n",
        "def display(): \n",
        "  print(p1.last + p1.first + p1.mi + p1.id + p1.phone )\n",
        "    \n",
        "\n",
        "\n"
      ]
    },
    {
      "cell_type": "code",
      "source": [
        "import sys\n",
        "import pickle\n",
        "from re import X\n",
        "import re \n",
        "import csv \n",
        "def main(): \n",
        "  print(\"Enter the name of the path\", sys.argv[0]) #sysarg to check data path \n",
        "  # save dictionary to pickle file\n",
        "  with open('my_filename.pickle', 'wb') as file:\n",
        "    pickle.dump(dictionary, file, protocol=pickle.HIGHEST_PROTOCOL)\n",
        "  process_txt(\"data.csv\")\n",
        "\n",
        "\n"
      ],
      "metadata": {
        "id": "1kxTA1UXI5Gc"
      },
      "execution_count": 37,
      "outputs": []
    },
    {
      "cell_type": "code",
      "source": [
        "def process_txt(rows):\n",
        "    strcsv = ''.join(rows)\n",
        "    #print(strcsv)\n",
        "    #words  = strcsv.split()\n",
        "    #lastname = strcsv[1]\n",
        "    strcsv = strcsv.strip()\n",
        "    print(strcsv.split(\",\"))\n",
        "    splitstr = strcsv.split(\",\")\n",
        "    print(splitstr)\n",
        "    splitstr[1]= splitstr[1].upper() #last name upper case\n",
        "    splitstr[0] = splitstr[0].upper() #first name upper case\n",
        "    if splitstr[2] == '': #check if middle initial is empty \n",
        "      splitstr[2] = X     \n",
        "    else: \n",
        "      splitstr[2] = splitstr[2].upper()\n",
        "\n",
        "    print(splitstr)\n"
      ],
      "metadata": {
        "id": "s2lOd5b6_h-J"
      },
      "execution_count": 26,
      "outputs": []
    },
    {
      "cell_type": "code",
      "source": [
        "import re"
      ],
      "metadata": {
        "id": "eHGkTe7kMKon"
      },
      "execution_count": null,
      "outputs": []
    },
    {
      "cell_type": "code",
      "source": [
        "from re import X\n",
        "with open('data.csv') as file:\n",
        "    content = file.readlines()\n",
        "    header = content[:1]\n",
        "    rows = content[1:2]\n",
        "    #print(header)\n",
        "    #print(rows)\n",
        "    strcsv = ''.join(rows)\n",
        "    #print(strcsv)\n",
        "    #words  = strcsv.split()\n",
        "    #lastname = strcsv[1]\n",
        "    strcsv = strcsv.strip()\n",
        "    print(strcsv.split(\",\"))\n",
        "    splitstr = strcsv.split(\",\")\n",
        "    print(splitstr)\n",
        "    splitstr[1]= splitstr[1].upper() #last name upper case\n",
        "    splitstr[0] = splitstr[0].upper() #first name upper case\n",
        "    if splitstr[2] == '': #check if middle initial is empty \n",
        "      splitstr[2] = X     \n",
        "    else: \n",
        "      splitstr[2] = splitstr[2].upper()\n",
        "\n",
        "    print(splitstr)\n",
        "\n",
        "    #use regex to fix id \n",
        "    #find all letter and if there are 2 then check how many numbers \n",
        "    letters = re.findall('[A-Z]', splitstr[3])\n",
        "    #print(letters)\n",
        "    if len(letters) != 2: \n",
        "      print(\"invalid id should be 2 letters followed by 4 numbers\")\n",
        "      splitstr[3] = input(\"enter a valid id\")\n",
        "    num = re.findall('[0-9]', splitstr[3])\n",
        "   # print(num)\n",
        "    if len(num) != 4: \n",
        "       print(\"invalid id should be 2 letters followed by 4 numbers\")\n",
        "       splitstr[3] = input(\"enter a valid id\")\n",
        "\n",
        "    #use regex to check that phone number is in the correct form \n",
        "    phonenum = re.findall('[-]', splitstr[4])\n",
        "    if len(phonenum) < 2:\n",
        "      print(splitstr[4] + \" is invalid \") \n",
        "      splitstr[4] = input(\"enter a valid number please \")\n",
        "  # now that the data is fixed convert to a dictionary "
      ],
      "metadata": {
        "colab": {
          "base_uri": "https://localhost:8080/",
          "height": 433
        },
        "id": "OsVUNfoIXk9X",
        "outputId": "b7144e02-b9ec-4bb8-e9d4-be3b1404f87e"
      },
      "execution_count": 38,
      "outputs": [
        {
          "output_type": "stream",
          "name": "stdout",
          "text": [
            "['Smith', 'Smitty', 'S', 'WH1234', '5557771212']\n",
            "['Smith', 'Smitty', 'S', 'WH1234', '5557771212']\n",
            "['SMITH', 'SMITTY', 'S', 'WH1234', '5557771212']\n",
            "5557771212 is invalid \n"
          ]
        },
        {
          "output_type": "error",
          "ename": "KeyboardInterrupt",
          "evalue": "ignored",
          "traceback": [
            "\u001b[0;31m---------------------------------------------------------------------------\u001b[0m",
            "\u001b[0;31mKeyboardInterrupt\u001b[0m                         Traceback (most recent call last)",
            "\u001b[0;32m<ipython-input-38-daeb924eb463>\u001b[0m in \u001b[0;36m<module>\u001b[0;34m\u001b[0m\n\u001b[1;32m     40\u001b[0m     \u001b[0;32mif\u001b[0m \u001b[0mlen\u001b[0m\u001b[0;34m(\u001b[0m\u001b[0mphonenum\u001b[0m\u001b[0;34m)\u001b[0m \u001b[0;34m<\u001b[0m \u001b[0;36m2\u001b[0m\u001b[0;34m:\u001b[0m\u001b[0;34m\u001b[0m\u001b[0;34m\u001b[0m\u001b[0m\n\u001b[1;32m     41\u001b[0m       \u001b[0mprint\u001b[0m\u001b[0;34m(\u001b[0m\u001b[0msplitstr\u001b[0m\u001b[0;34m[\u001b[0m\u001b[0;36m4\u001b[0m\u001b[0;34m]\u001b[0m \u001b[0;34m+\u001b[0m \u001b[0;34m\" is invalid \"\u001b[0m\u001b[0;34m)\u001b[0m\u001b[0;34m\u001b[0m\u001b[0;34m\u001b[0m\u001b[0m\n\u001b[0;32m---> 42\u001b[0;31m       \u001b[0msplitstr\u001b[0m\u001b[0;34m[\u001b[0m\u001b[0;36m4\u001b[0m\u001b[0;34m]\u001b[0m \u001b[0;34m=\u001b[0m \u001b[0minput\u001b[0m\u001b[0;34m(\u001b[0m\u001b[0;34m\"enter a valid number please \"\u001b[0m\u001b[0;34m)\u001b[0m\u001b[0;34m\u001b[0m\u001b[0;34m\u001b[0m\u001b[0m\n\u001b[0m\u001b[1;32m     43\u001b[0m   \u001b[0;31m# now that the data is fixed convert to a dictionary\u001b[0m\u001b[0;34m\u001b[0m\u001b[0;34m\u001b[0m\u001b[0;34m\u001b[0m\u001b[0m\n",
            "\u001b[0;32m/usr/local/lib/python3.7/dist-packages/ipykernel/kernelbase.py\u001b[0m in \u001b[0;36mraw_input\u001b[0;34m(self, prompt)\u001b[0m\n\u001b[1;32m    861\u001b[0m             \u001b[0mself\u001b[0m\u001b[0;34m.\u001b[0m\u001b[0m_parent_ident\u001b[0m\u001b[0;34m,\u001b[0m\u001b[0;34m\u001b[0m\u001b[0;34m\u001b[0m\u001b[0m\n\u001b[1;32m    862\u001b[0m             \u001b[0mself\u001b[0m\u001b[0;34m.\u001b[0m\u001b[0m_parent_header\u001b[0m\u001b[0;34m,\u001b[0m\u001b[0;34m\u001b[0m\u001b[0;34m\u001b[0m\u001b[0m\n\u001b[0;32m--> 863\u001b[0;31m             \u001b[0mpassword\u001b[0m\u001b[0;34m=\u001b[0m\u001b[0;32mFalse\u001b[0m\u001b[0;34m,\u001b[0m\u001b[0;34m\u001b[0m\u001b[0;34m\u001b[0m\u001b[0m\n\u001b[0m\u001b[1;32m    864\u001b[0m         )\n\u001b[1;32m    865\u001b[0m \u001b[0;34m\u001b[0m\u001b[0m\n",
            "\u001b[0;32m/usr/local/lib/python3.7/dist-packages/ipykernel/kernelbase.py\u001b[0m in \u001b[0;36m_input_request\u001b[0;34m(self, prompt, ident, parent, password)\u001b[0m\n\u001b[1;32m    902\u001b[0m             \u001b[0;32mexcept\u001b[0m \u001b[0mKeyboardInterrupt\u001b[0m\u001b[0;34m:\u001b[0m\u001b[0;34m\u001b[0m\u001b[0;34m\u001b[0m\u001b[0m\n\u001b[1;32m    903\u001b[0m                 \u001b[0;31m# re-raise KeyboardInterrupt, to truncate traceback\u001b[0m\u001b[0;34m\u001b[0m\u001b[0;34m\u001b[0m\u001b[0;34m\u001b[0m\u001b[0m\n\u001b[0;32m--> 904\u001b[0;31m                 \u001b[0;32mraise\u001b[0m \u001b[0mKeyboardInterrupt\u001b[0m\u001b[0;34m(\u001b[0m\u001b[0;34m\"Interrupted by user\"\u001b[0m\u001b[0;34m)\u001b[0m \u001b[0;32mfrom\u001b[0m \u001b[0;32mNone\u001b[0m\u001b[0;34m\u001b[0m\u001b[0;34m\u001b[0m\u001b[0m\n\u001b[0m\u001b[1;32m    905\u001b[0m             \u001b[0;32mexcept\u001b[0m \u001b[0mException\u001b[0m \u001b[0;32mas\u001b[0m \u001b[0me\u001b[0m\u001b[0;34m:\u001b[0m\u001b[0;34m\u001b[0m\u001b[0;34m\u001b[0m\u001b[0m\n\u001b[1;32m    906\u001b[0m                 \u001b[0mself\u001b[0m\u001b[0;34m.\u001b[0m\u001b[0mlog\u001b[0m\u001b[0;34m.\u001b[0m\u001b[0mwarning\u001b[0m\u001b[0;34m(\u001b[0m\u001b[0;34m\"Invalid Message:\"\u001b[0m\u001b[0;34m,\u001b[0m \u001b[0mexc_info\u001b[0m\u001b[0;34m=\u001b[0m\u001b[0;32mTrue\u001b[0m\u001b[0;34m)\u001b[0m\u001b[0;34m\u001b[0m\u001b[0;34m\u001b[0m\u001b[0m\n",
            "\u001b[0;31mKeyboardInterrupt\u001b[0m: Interrupted by user"
          ]
        }
      ]
    },
    {
      "cell_type": "code",
      "source": [
        "print(splitstr)\n",
        "#dictionary = {'Last name': splitstr[0], 'First name': splitstr[1], 'Mi': splitstr[2], 'id': splitstr[3], 'phone': splitstr[4]}\n",
        "#print(dictionary)\n",
        "\n",
        "# create object \n",
        "# key = id value = object \n",
        "\n",
        "p1 = Person(splitstr[0], splitstr[1],splitstr[2], splitstr[3],splitstr[4])\n",
        "dictionary  = {splitstr[3]: p1}\n",
        "print(dictionary)"
      ],
      "metadata": {
        "colab": {
          "base_uri": "https://localhost:8080/"
        },
        "id": "Pb7DkVdzTZSM",
        "outputId": "20d62bd5-2919-45e2-dd18-380997be4380"
      },
      "execution_count": null,
      "outputs": [
        {
          "output_type": "stream",
          "name": "stdout",
          "text": [
            "['SMITH', 'SMITTY', 'S', 'WH1234', '555-777-1212']\n",
            "{'WH1234': <__main__.Person object at 0x7f7928e59ad0>}\n"
          ]
        }
      ]
    },
    {
      "cell_type": "code",
      "source": [],
      "metadata": {
        "id": "vFXc6v5hAbHS"
      },
      "execution_count": null,
      "outputs": []
    }
  ]
}